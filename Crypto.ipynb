{
  "nbformat": 4,
  "nbformat_minor": 0,
  "metadata": {
    "colab": {
      "provenance": [],
      "authorship_tag": "ABX9TyOwZK4CCBTkkzf97dCCkXk6",
      "include_colab_link": true
    },
    "kernelspec": {
      "name": "python3",
      "display_name": "Python 3"
    },
    "language_info": {
      "name": "python"
    },
    "widgets": {
      "application/vnd.jupyter.widget-state+json": {
        "6c88cc5238484cfbab2374463ab1685a": {
          "model_module": "@jupyter-widgets/controls",
          "model_name": "DropdownModel",
          "model_module_version": "1.5.0",
          "state": {
            "_dom_classes": [],
            "_model_module": "@jupyter-widgets/controls",
            "_model_module_version": "1.5.0",
            "_model_name": "DropdownModel",
            "_options_labels": [
              "Bitcoin (BTC)",
              "Ethereum (ETH)",
              "Dogecoin (DOGE)"
            ],
            "_view_count": null,
            "_view_module": "@jupyter-widgets/controls",
            "_view_module_version": "1.5.0",
            "_view_name": "DropdownView",
            "description": "Cryptocurrency:",
            "description_tooltip": null,
            "disabled": false,
            "index": 1,
            "layout": "IPY_MODEL_3b6b17fe0fea4721b22aae71b0c4febd",
            "style": "IPY_MODEL_8fa0c1fa3b484656bf0e1200e1e10b39"
          }
        },
        "3b6b17fe0fea4721b22aae71b0c4febd": {
          "model_module": "@jupyter-widgets/base",
          "model_name": "LayoutModel",
          "model_module_version": "1.2.0",
          "state": {
            "_model_module": "@jupyter-widgets/base",
            "_model_module_version": "1.2.0",
            "_model_name": "LayoutModel",
            "_view_count": null,
            "_view_module": "@jupyter-widgets/base",
            "_view_module_version": "1.2.0",
            "_view_name": "LayoutView",
            "align_content": null,
            "align_items": null,
            "align_self": null,
            "border": null,
            "bottom": null,
            "display": null,
            "flex": null,
            "flex_flow": null,
            "grid_area": null,
            "grid_auto_columns": null,
            "grid_auto_flow": null,
            "grid_auto_rows": null,
            "grid_column": null,
            "grid_gap": null,
            "grid_row": null,
            "grid_template_areas": null,
            "grid_template_columns": null,
            "grid_template_rows": null,
            "height": null,
            "justify_content": null,
            "justify_items": null,
            "left": null,
            "margin": null,
            "max_height": null,
            "max_width": null,
            "min_height": null,
            "min_width": null,
            "object_fit": null,
            "object_position": null,
            "order": null,
            "overflow": null,
            "overflow_x": null,
            "overflow_y": null,
            "padding": null,
            "right": null,
            "top": null,
            "visibility": null,
            "width": "80%"
          }
        },
        "8fa0c1fa3b484656bf0e1200e1e10b39": {
          "model_module": "@jupyter-widgets/controls",
          "model_name": "DescriptionStyleModel",
          "model_module_version": "1.5.0",
          "state": {
            "_model_module": "@jupyter-widgets/controls",
            "_model_module_version": "1.5.0",
            "_model_name": "DescriptionStyleModel",
            "_view_count": null,
            "_view_module": "@jupyter-widgets/base",
            "_view_module_version": "1.2.0",
            "_view_name": "StyleView",
            "description_width": "initial"
          }
        },
        "16093f7239bf4062b31529fa4de3fa25": {
          "model_module": "@jupyter-widgets/controls",
          "model_name": "IntSliderModel",
          "model_module_version": "1.5.0",
          "state": {
            "_dom_classes": [],
            "_model_module": "@jupyter-widgets/controls",
            "_model_module_version": "1.5.0",
            "_model_name": "IntSliderModel",
            "_view_count": null,
            "_view_module": "@jupyter-widgets/controls",
            "_view_module_version": "1.5.0",
            "_view_name": "IntSliderView",
            "continuous_update": true,
            "description": "Price Threshold (€):",
            "description_tooltip": null,
            "disabled": false,
            "layout": "IPY_MODEL_87c163d31d3a4e139a02e6ee5d6c4b89",
            "max": 100000,
            "min": 100,
            "orientation": "horizontal",
            "readout": true,
            "readout_format": "d",
            "step": 500,
            "style": "IPY_MODEL_176d5c072ea14417bc077d27e979fad4",
            "value": 70000
          }
        },
        "87c163d31d3a4e139a02e6ee5d6c4b89": {
          "model_module": "@jupyter-widgets/base",
          "model_name": "LayoutModel",
          "model_module_version": "1.2.0",
          "state": {
            "_model_module": "@jupyter-widgets/base",
            "_model_module_version": "1.2.0",
            "_model_name": "LayoutModel",
            "_view_count": null,
            "_view_module": "@jupyter-widgets/base",
            "_view_module_version": "1.2.0",
            "_view_name": "LayoutView",
            "align_content": null,
            "align_items": null,
            "align_self": null,
            "border": null,
            "bottom": null,
            "display": null,
            "flex": null,
            "flex_flow": null,
            "grid_area": null,
            "grid_auto_columns": null,
            "grid_auto_flow": null,
            "grid_auto_rows": null,
            "grid_column": null,
            "grid_gap": null,
            "grid_row": null,
            "grid_template_areas": null,
            "grid_template_columns": null,
            "grid_template_rows": null,
            "height": null,
            "justify_content": null,
            "justify_items": null,
            "left": null,
            "margin": null,
            "max_height": null,
            "max_width": null,
            "min_height": null,
            "min_width": null,
            "object_fit": null,
            "object_position": null,
            "order": null,
            "overflow": null,
            "overflow_x": null,
            "overflow_y": null,
            "padding": null,
            "right": null,
            "top": null,
            "visibility": null,
            "width": "80%"
          }
        },
        "176d5c072ea14417bc077d27e979fad4": {
          "model_module": "@jupyter-widgets/controls",
          "model_name": "SliderStyleModel",
          "model_module_version": "1.5.0",
          "state": {
            "_model_module": "@jupyter-widgets/controls",
            "_model_module_version": "1.5.0",
            "_model_name": "SliderStyleModel",
            "_view_count": null,
            "_view_module": "@jupyter-widgets/base",
            "_view_module_version": "1.2.0",
            "_view_name": "StyleView",
            "description_width": "initial",
            "handle_color": null
          }
        },
        "db9f3fd7ade0480cb9f0cc0c93e01fc2": {
          "model_module": "@jupyter-widgets/controls",
          "model_name": "ButtonModel",
          "model_module_version": "1.5.0",
          "state": {
            "_dom_classes": [],
            "_model_module": "@jupyter-widgets/controls",
            "_model_module_version": "1.5.0",
            "_model_name": "ButtonModel",
            "_view_count": null,
            "_view_module": "@jupyter-widgets/controls",
            "_view_module_version": "1.5.0",
            "_view_name": "ButtonView",
            "button_style": "success",
            "description": "📈 Check Price",
            "disabled": false,
            "icon": "",
            "layout": "IPY_MODEL_029d6d690f4e4351ade99e2d834c495e",
            "style": "IPY_MODEL_dbca4de7c9b14127b1ee0c8b21aebf7a",
            "tooltip": ""
          }
        },
        "029d6d690f4e4351ade99e2d834c495e": {
          "model_module": "@jupyter-widgets/base",
          "model_name": "LayoutModel",
          "model_module_version": "1.2.0",
          "state": {
            "_model_module": "@jupyter-widgets/base",
            "_model_module_version": "1.2.0",
            "_model_name": "LayoutModel",
            "_view_count": null,
            "_view_module": "@jupyter-widgets/base",
            "_view_module_version": "1.2.0",
            "_view_name": "LayoutView",
            "align_content": null,
            "align_items": null,
            "align_self": null,
            "border": null,
            "bottom": null,
            "display": null,
            "flex": null,
            "flex_flow": null,
            "grid_area": null,
            "grid_auto_columns": null,
            "grid_auto_flow": null,
            "grid_auto_rows": null,
            "grid_column": null,
            "grid_gap": null,
            "grid_row": null,
            "grid_template_areas": null,
            "grid_template_columns": null,
            "grid_template_rows": null,
            "height": null,
            "justify_content": null,
            "justify_items": null,
            "left": null,
            "margin": null,
            "max_height": null,
            "max_width": null,
            "min_height": null,
            "min_width": null,
            "object_fit": null,
            "object_position": null,
            "order": null,
            "overflow": null,
            "overflow_x": null,
            "overflow_y": null,
            "padding": null,
            "right": null,
            "top": null,
            "visibility": null,
            "width": "40%"
          }
        },
        "dbca4de7c9b14127b1ee0c8b21aebf7a": {
          "model_module": "@jupyter-widgets/controls",
          "model_name": "ButtonStyleModel",
          "model_module_version": "1.5.0",
          "state": {
            "_model_module": "@jupyter-widgets/controls",
            "_model_module_version": "1.5.0",
            "_model_name": "ButtonStyleModel",
            "_view_count": null,
            "_view_module": "@jupyter-widgets/base",
            "_view_module_version": "1.2.0",
            "_view_name": "StyleView",
            "button_color": null,
            "font_weight": ""
          }
        },
        "2bdf54f7928e49ceb14ab3cff80ad980": {
          "model_module": "@jupyter-widgets/output",
          "model_name": "OutputModel",
          "model_module_version": "1.0.0",
          "state": {
            "_dom_classes": [],
            "_model_module": "@jupyter-widgets/output",
            "_model_module_version": "1.0.0",
            "_model_name": "OutputModel",
            "_view_count": null,
            "_view_module": "@jupyter-widgets/output",
            "_view_module_version": "1.0.0",
            "_view_name": "OutputView",
            "layout": "IPY_MODEL_c6cd65d5c7704d009927d2bff4e2f0cd",
            "msg_id": "",
            "outputs": [
              {
                "output_type": "stream",
                "name": "stdout",
                "text": [
                  "🪙 Current Dogecoin Price: €0.141419\n",
                  "✅ Price is BELOW your threshold.\n"
                ]
              },
              {
                "output_type": "display_data",
                "data": {
                  "text/plain": "<Figure size 800x400 with 1 Axes>",
                  "image/png": "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\n"
                },
                "metadata": {}
              }
            ]
          }
        },
        "c6cd65d5c7704d009927d2bff4e2f0cd": {
          "model_module": "@jupyter-widgets/base",
          "model_name": "LayoutModel",
          "model_module_version": "1.2.0",
          "state": {
            "_model_module": "@jupyter-widgets/base",
            "_model_module_version": "1.2.0",
            "_model_name": "LayoutModel",
            "_view_count": null,
            "_view_module": "@jupyter-widgets/base",
            "_view_module_version": "1.2.0",
            "_view_name": "LayoutView",
            "align_content": null,
            "align_items": null,
            "align_self": null,
            "border": null,
            "bottom": null,
            "display": null,
            "flex": null,
            "flex_flow": null,
            "grid_area": null,
            "grid_auto_columns": null,
            "grid_auto_flow": null,
            "grid_auto_rows": null,
            "grid_column": null,
            "grid_gap": null,
            "grid_row": null,
            "grid_template_areas": null,
            "grid_template_columns": null,
            "grid_template_rows": null,
            "height": null,
            "justify_content": null,
            "justify_items": null,
            "left": null,
            "margin": null,
            "max_height": null,
            "max_width": null,
            "min_height": null,
            "min_width": null,
            "object_fit": null,
            "object_position": null,
            "order": null,
            "overflow": null,
            "overflow_x": null,
            "overflow_y": null,
            "padding": null,
            "right": null,
            "top": null,
            "visibility": null,
            "width": null
          }
        }
      }
    }
  },
  "cells": [
    {
      "cell_type": "markdown",
      "metadata": {
        "id": "view-in-github",
        "colab_type": "text"
      },
      "source": [
        "<a href=\"https://colab.research.google.com/github/saanvis404/Crypto/blob/main/Crypto.ipynb\" target=\"_parent\"><img src=\"https://colab.research.google.com/assets/colab-badge.svg\" alt=\"Open In Colab\"/></a>"
      ]
    },
    {
      "cell_type": "code",
      "execution_count": null,
      "metadata": {
        "colab": {
          "base_uri": "https://localhost:8080/"
        },
        "id": "kjzsqWBaQFBz",
        "outputId": "8d3ddec5-9d46-4aa5-cbad-96dbd3c87bcf"
      },
      "outputs": [
        {
          "output_type": "stream",
          "name": "stdout",
          "text": [
            "💰 Current Bitcoin Price: €90659\n"
          ]
        }
      ],
      "source": [
        "# Import the required library\n",
        "import requests\n",
        "\n",
        "# URL to get Bitcoin price in EUR from CoinGecko\n",
        "url = \"https://api.coingecko.com/api/v3/simple/price?ids=bitcoin&vs_currencies=eur\"\n",
        "\n",
        "# Send request and get response\n",
        "response = requests.get(url)\n",
        "\n",
        "# Parse the JSON response\n",
        "data = response.json()\n",
        "\n",
        "# Extract price\n",
        "btc_price = data['bitcoin']['eur']\n",
        "\n",
        "# Display the price\n",
        "print(f\"💰 Current Bitcoin Price: €{btc_price}\")\n"
      ]
    },
    {
      "cell_type": "code",
      "source": [
        "# Set a price threshold\n",
        "threshold_price = 70000  # you can change this\n",
        "\n",
        "# Check and alert\n",
        "if btc_price > threshold_price:\n",
        "    print(\"🚨 ALERT: Bitcoin price is ABOVE your threshold!\")\n",
        "else:\n",
        "    print(\"✅ Bitcoin price is below your threshold.\")\n"
      ],
      "metadata": {
        "colab": {
          "base_uri": "https://localhost:8080/"
        },
        "id": "B-9n4D5rQIsP",
        "outputId": "ac10456a-ea46-4e23-9a36-20e8261c7d50"
      },
      "execution_count": null,
      "outputs": [
        {
          "output_type": "stream",
          "name": "stdout",
          "text": [
            "🚨 ALERT: Bitcoin price is ABOVE your threshold!\n"
          ]
        }
      ]
    },
    {
      "cell_type": "code",
      "source": [
        "import time\n",
        "\n",
        "# Check every 60 seconds\n",
        "while True:\n",
        "    response = requests.get(url)\n",
        "    btc_price = response.json()['bitcoin']['eur']\n",
        "    print(f\"Current BTC Price: €{btc_price}\")\n",
        "\n",
        "    if btc_price > threshold_price:\n",
        "        print(\"🚨 ALERT: Price above threshold!\")\n",
        "    else:\n",
        "        print(\"✅ Price is below threshold.\")\n",
        "\n",
        "    time.sleep(60)  # wait 60 seconds\n"
      ],
      "metadata": {
        "colab": {
          "base_uri": "https://localhost:8080/",
          "height": 211
        },
        "id": "YrrK740vQMFn",
        "outputId": "c25d7ddb-971b-4ea7-8323-49bf0d62f428"
      },
      "execution_count": null,
      "outputs": [
        {
          "output_type": "error",
          "ename": "NameError",
          "evalue": "name 'requests' is not defined",
          "traceback": [
            "\u001b[0;31m---------------------------------------------------------------------------\u001b[0m",
            "\u001b[0;31mNameError\u001b[0m                                 Traceback (most recent call last)",
            "\u001b[0;32m/tmp/ipython-input-6-502933428.py\u001b[0m in \u001b[0;36m<cell line: 0>\u001b[0;34m()\u001b[0m\n\u001b[1;32m      3\u001b[0m \u001b[0;31m# Check every 60 seconds\u001b[0m\u001b[0;34m\u001b[0m\u001b[0;34m\u001b[0m\u001b[0m\n\u001b[1;32m      4\u001b[0m \u001b[0;32mwhile\u001b[0m \u001b[0;32mTrue\u001b[0m\u001b[0;34m:\u001b[0m\u001b[0;34m\u001b[0m\u001b[0;34m\u001b[0m\u001b[0m\n\u001b[0;32m----> 5\u001b[0;31m     \u001b[0mresponse\u001b[0m \u001b[0;34m=\u001b[0m \u001b[0mrequests\u001b[0m\u001b[0;34m.\u001b[0m\u001b[0mget\u001b[0m\u001b[0;34m(\u001b[0m\u001b[0murl\u001b[0m\u001b[0;34m)\u001b[0m\u001b[0;34m\u001b[0m\u001b[0;34m\u001b[0m\u001b[0m\n\u001b[0m\u001b[1;32m      6\u001b[0m     \u001b[0mbtc_price\u001b[0m \u001b[0;34m=\u001b[0m \u001b[0mresponse\u001b[0m\u001b[0;34m.\u001b[0m\u001b[0mjson\u001b[0m\u001b[0;34m(\u001b[0m\u001b[0;34m)\u001b[0m\u001b[0;34m[\u001b[0m\u001b[0;34m'bitcoin'\u001b[0m\u001b[0;34m]\u001b[0m\u001b[0;34m[\u001b[0m\u001b[0;34m'eur'\u001b[0m\u001b[0;34m]\u001b[0m\u001b[0;34m\u001b[0m\u001b[0;34m\u001b[0m\u001b[0m\n\u001b[1;32m      7\u001b[0m     \u001b[0mprint\u001b[0m\u001b[0;34m(\u001b[0m\u001b[0;34mf\"Current BTC Price: €{btc_price}\"\u001b[0m\u001b[0;34m)\u001b[0m\u001b[0;34m\u001b[0m\u001b[0;34m\u001b[0m\u001b[0m\n",
            "\u001b[0;31mNameError\u001b[0m: name 'requests' is not defined"
          ]
        }
      ]
    },
    {
      "cell_type": "code",
      "source": [
        "import time\n",
        "import requests  # 👈 This line is the fix\n",
        "\n",
        "# Check every 60 seconds\n",
        "while True:\n",
        "    response = requests.get(\"https://api.coingecko.com/api/v3/simple/price?ids=bitcoin&vs_currencies=eur\")\n",
        "    btc_price = response.json()['bitcoin']['eur']\n",
        "    print(f\"Current BTC Price: €{btc_price}\")\n",
        "\n",
        "    if btc_price > threshold_price:\n",
        "        print(\"🚨 ALERT: Price above threshold!\")\n",
        "    else:\n",
        "        print(\"✅ Price is below threshold.\")\n",
        "\n",
        "    time.sleep(60)  # wait 60 seconds\n"
      ],
      "metadata": {
        "colab": {
          "base_uri": "https://localhost:8080/",
          "height": 228
        },
        "id": "FCMBj1PiRJaP",
        "outputId": "f1d276f5-1151-4a99-88e4-39ec0d7cafbb"
      },
      "execution_count": null,
      "outputs": [
        {
          "output_type": "stream",
          "name": "stdout",
          "text": [
            "Current BTC Price: €90877\n"
          ]
        },
        {
          "output_type": "error",
          "ename": "NameError",
          "evalue": "name 'threshold_price' is not defined",
          "traceback": [
            "\u001b[0;31m---------------------------------------------------------------------------\u001b[0m",
            "\u001b[0;31mNameError\u001b[0m                                 Traceback (most recent call last)",
            "\u001b[0;32m/tmp/ipython-input-7-2224761714.py\u001b[0m in \u001b[0;36m<cell line: 0>\u001b[0;34m()\u001b[0m\n\u001b[1;32m      8\u001b[0m     \u001b[0mprint\u001b[0m\u001b[0;34m(\u001b[0m\u001b[0;34mf\"Current BTC Price: €{btc_price}\"\u001b[0m\u001b[0;34m)\u001b[0m\u001b[0;34m\u001b[0m\u001b[0;34m\u001b[0m\u001b[0m\n\u001b[1;32m      9\u001b[0m \u001b[0;34m\u001b[0m\u001b[0m\n\u001b[0;32m---> 10\u001b[0;31m     \u001b[0;32mif\u001b[0m \u001b[0mbtc_price\u001b[0m \u001b[0;34m>\u001b[0m \u001b[0mthreshold_price\u001b[0m\u001b[0;34m:\u001b[0m\u001b[0;34m\u001b[0m\u001b[0;34m\u001b[0m\u001b[0m\n\u001b[0m\u001b[1;32m     11\u001b[0m         \u001b[0mprint\u001b[0m\u001b[0;34m(\u001b[0m\u001b[0;34m\"🚨 ALERT: Price above threshold!\"\u001b[0m\u001b[0;34m)\u001b[0m\u001b[0;34m\u001b[0m\u001b[0;34m\u001b[0m\u001b[0m\n\u001b[1;32m     12\u001b[0m     \u001b[0;32melse\u001b[0m\u001b[0;34m:\u001b[0m\u001b[0;34m\u001b[0m\u001b[0;34m\u001b[0m\u001b[0m\n",
            "\u001b[0;31mNameError\u001b[0m: name 'threshold_price' is not defined"
          ]
        }
      ]
    },
    {
      "cell_type": "code",
      "source": [
        "import time\n",
        "import requests\n",
        "\n",
        "threshold_price = 70000  # Set your custom threshold here\n",
        "\n",
        "# Check every 60 seconds\n",
        "while True:\n",
        "    response = requests.get(\"https://api.coingecko.com/api/v3/simple/price?ids=bitcoin&vs_currencies=eur\")\n",
        "    btc_price = response.json()['bitcoin']['eur']\n",
        "    print(f\"Current BTC Price: €{btc_price}\")\n",
        "\n",
        "    if btc_price > threshold_price:\n",
        "        print(\"🚨 ALERT: Price above threshold!\")\n",
        "    else:\n",
        "        print(\"✅ Price is below threshold.\")\n",
        "\n",
        "    time.sleep(60)  # wait 60 seconds before checking again\n"
      ],
      "metadata": {
        "colab": {
          "base_uri": "https://localhost:8080/",
          "height": 315
        },
        "id": "8-b-DyNMl5k5",
        "outputId": "5b1f53a0-6a41-4f62-b576-487040b572be"
      },
      "execution_count": null,
      "outputs": [
        {
          "output_type": "stream",
          "name": "stdout",
          "text": [
            "Current BTC Price: €90877\n",
            "🚨 ALERT: Price above threshold!\n",
            "Current BTC Price: €90856\n",
            "🚨 ALERT: Price above threshold!\n",
            "Current BTC Price: €90856\n",
            "🚨 ALERT: Price above threshold!\n",
            "Current BTC Price: €90810\n",
            "🚨 ALERT: Price above threshold!\n"
          ]
        },
        {
          "output_type": "error",
          "ename": "KeyboardInterrupt",
          "evalue": "",
          "traceback": [
            "\u001b[0;31m---------------------------------------------------------------------------\u001b[0m",
            "\u001b[0;31mKeyboardInterrupt\u001b[0m                         Traceback (most recent call last)",
            "\u001b[0;32m/tmp/ipython-input-8-5139464.py\u001b[0m in \u001b[0;36m<cell line: 0>\u001b[0;34m()\u001b[0m\n\u001b[1;32m     15\u001b[0m         \u001b[0mprint\u001b[0m\u001b[0;34m(\u001b[0m\u001b[0;34m\"✅ Price is below threshold.\"\u001b[0m\u001b[0;34m)\u001b[0m\u001b[0;34m\u001b[0m\u001b[0;34m\u001b[0m\u001b[0m\n\u001b[1;32m     16\u001b[0m \u001b[0;34m\u001b[0m\u001b[0m\n\u001b[0;32m---> 17\u001b[0;31m     \u001b[0mtime\u001b[0m\u001b[0;34m.\u001b[0m\u001b[0msleep\u001b[0m\u001b[0;34m(\u001b[0m\u001b[0;36m60\u001b[0m\u001b[0;34m)\u001b[0m  \u001b[0;31m# wait 60 seconds before checking again\u001b[0m\u001b[0;34m\u001b[0m\u001b[0;34m\u001b[0m\u001b[0m\n\u001b[0m",
            "\u001b[0;31mKeyboardInterrupt\u001b[0m: "
          ]
        }
      ]
    },
    {
      "cell_type": "code",
      "source": [
        "import matplotlib.pyplot as plt\n",
        "import datetime\n"
      ],
      "metadata": {
        "id": "Zxk_jEe6nR65"
      },
      "execution_count": null,
      "outputs": []
    },
    {
      "cell_type": "code",
      "source": [
        "import matplotlib.pyplot as plt\n",
        "import datetime\n",
        "\n",
        "# To store price history\n",
        "price_history = []\n",
        "time_stamps = []\n"
      ],
      "metadata": {
        "id": "A7Lx76penncn"
      },
      "execution_count": null,
      "outputs": []
    },
    {
      "cell_type": "code",
      "source": [
        "def check_price(b):\n",
        "    with output:\n",
        "        clear_output()\n",
        "        coin = coin_selector.value\n",
        "        url = f\"https://api.coingecko.com/api/v3/simple/price?ids={coin}&vs_currencies=eur\"\n",
        "        try:\n",
        "            response = requests.get(url)\n",
        "            data = response.json()\n",
        "            print(\"🔎 Raw API Response:\", data)  # For debugging — optional\n",
        "\n",
        "            # ✅ Check if coin and 'eur' price exist\n",
        "            if coin in data and 'eur' in data[coin]:\n",
        "                price = data[coin]['eur']\n",
        "                now = datetime.datetime.now().strftime(\"%H:%M:%S\")\n",
        "\n",
        "                # Store for graph\n",
        "                price_history.append(price)\n",
        "                time_stamps.append(now)\n",
        "\n",
        "                # Display current price\n",
        "                print(f\"₿ Current {coin.capitalize()} Price: €{price}\")\n",
        "\n",
        "                # Alert logic\n",
        "                if price > threshold_slider.value:\n",
        "                    print(\"🚨 ALERT: Price is ABOVE your threshold!\")\n",
        "                else:\n",
        "                    print(\"✅ Price is BELOW your threshold.\")\n",
        "\n",
        "                # Plot\n",
        "                plt.figure(figsize=(8, 4))\n",
        "                plt.plot(time_stamps, price_history, marker='o', linestyle='-')\n",
        "                plt.title(f\"{coin.capitalize()} Price Over Time\")\n",
        "                plt.xlabel(\"Time\")\n",
        "                plt.ylabel(\"Price (€)\")\n",
        "                plt.xticks(rotation=45)\n",
        "                plt.grid(True)\n",
        "                plt.tight_layout()\n",
        "                plt.show()\n",
        "\n",
        "            else:\n",
        "                print(f\"❗ Price data for '{coin}' not found in API response:\", data)\n",
        "\n",
        "        except Exception as e:\n",
        "            print(\"❌ Error fetching price:\", e)"
      ],
      "metadata": {
        "id": "4JE9xguXpDsq"
      },
      "execution_count": 51,
      "outputs": []
    },
    {
      "cell_type": "code",
      "source": [
        "check_button.on_click(check_price)\n",
        "display(coin_selector, threshold_slider, check_button, output)\n"
      ],
      "metadata": {
        "colab": {
          "base_uri": "https://localhost:8080/",
          "height": 86,
          "referenced_widgets": [
            "d6d0fe35770243069055bcd0a3406e34",
            "4d1ff38faf4a4e6cbf36a0d665ee4d8a",
            "a97cac1d43fe4a08867d954c7479be35",
            "d521e636713c46a496f8eb69105b4b43"
          ]
        },
        "id": "rJaocpTAzGUp",
        "outputId": "b5bc0174-966a-4883-ffc4-2eab009ccd7b"
      },
      "execution_count": 54,
      "outputs": [
        {
          "output_type": "display_data",
          "data": {
            "text/plain": [
              "Dropdown(description='Cryptocurrency:', layout=Layout(width='80%'), options=(('Bitcoin (BTC)', 'bitcoin'), ('E…"
            ],
            "application/vnd.jupyter.widget-view+json": {
              "version_major": 2,
              "version_minor": 0,
              "model_id": "d6d0fe35770243069055bcd0a3406e34"
            }
          },
          "metadata": {}
        },
        {
          "output_type": "display_data",
          "data": {
            "text/plain": [
              "IntSlider(value=70000, description='Price Threshold (€):', layout=Layout(width='80%'), max=100000, min=100, st…"
            ],
            "application/vnd.jupyter.widget-view+json": {
              "version_major": 2,
              "version_minor": 0,
              "model_id": "4d1ff38faf4a4e6cbf36a0d665ee4d8a"
            }
          },
          "metadata": {}
        },
        {
          "output_type": "display_data",
          "data": {
            "text/plain": [
              "Button(button_style='success', description='🔍 Check Price', layout=Layout(width='40%'), style=ButtonStyle())"
            ],
            "application/vnd.jupyter.widget-view+json": {
              "version_major": 2,
              "version_minor": 0,
              "model_id": "a97cac1d43fe4a08867d954c7479be35"
            }
          },
          "metadata": {}
        },
        {
          "output_type": "display_data",
          "data": {
            "text/plain": [
              "Output()"
            ],
            "application/vnd.jupyter.widget-view+json": {
              "version_major": 2,
              "version_minor": 0,
              "model_id": "d521e636713c46a496f8eb69105b4b43"
            }
          },
          "metadata": {}
        }
      ]
    },
    {
      "cell_type": "code",
      "source": [
        "# Import required packages\n",
        "import requests\n",
        "import matplotlib.pyplot as plt\n",
        "import ipywidgets as widgets\n",
        "from IPython.display import display, clear_output\n",
        "from datetime import datetime\n",
        "\n",
        "# Storage for plotting\n",
        "price_history = []\n",
        "time_stamps = []\n",
        "\n",
        "# Dropdown for coin selection\n",
        "coin_selector = widgets.Dropdown(\n",
        "    options=[\n",
        "        ('Bitcoin (BTC)', 'bitcoin'),\n",
        "        ('Ethereum (ETH)', 'ethereum'),\n",
        "        ('Dogecoin (DOGE)', 'dogecoin')\n",
        "    ],\n",
        "    value='bitcoin',\n",
        "    description='Cryptocurrency:',\n",
        "    style={'description_width': 'initial'},\n",
        "    layout=widgets.Layout(width='80%')\n",
        ")\n",
        "\n",
        "# Slider for threshold\n",
        "threshold_slider = widgets.IntSlider(\n",
        "    value=70000,\n",
        "    min=100,\n",
        "    max=100000,\n",
        "    step=500,\n",
        "    description='Price Threshold (€):',\n",
        "    style={'description_width': 'initial'},\n",
        "    layout=widgets.Layout(width='80%')\n",
        ")\n",
        "\n",
        "# Button to check price\n",
        "check_button = widgets.Button(\n",
        "    description='📈 Check Price',\n",
        "    button_style='success',\n",
        "    layout=widgets.Layout(width='40%')\n",
        ")\n",
        "\n",
        "# Output display area\n",
        "output = widgets.Output()\n",
        "\n",
        "# Function to check and display price\n",
        "def check_price(b):\n",
        "    with output:\n",
        "        clear_output()\n",
        "        coin = coin_selector.value\n",
        "        url = f\"https://api.coingecko.com/api/v3/simple/price?ids={coin}&vs_currencies=eur\"\n",
        "        try:\n",
        "            response = requests.get(url)\n",
        "            data = response.json()\n",
        "            if coin in data:\n",
        "                price = data[coin]['eur']\n",
        "                timestamp = datetime.now().strftime('%H:%M:%S')\n",
        "                price_history.append(price)\n",
        "                time_stamps.append(timestamp)\n",
        "\n",
        "                print(f\"🪙 Current {coin.capitalize()} Price: €{price}\")\n",
        "\n",
        "                # Alert\n",
        "                if price > threshold_slider.value:\n",
        "                    print(\"🚨 ALERT: Price is ABOVE your threshold!\")\n",
        "                else:\n",
        "                    print(\"✅ Price is BELOW your threshold.\")\n",
        "\n",
        "                # Plot\n",
        "                plt.figure(figsize=(8, 4))\n",
        "                plt.plot(time_stamps, price_history, marker='o', linestyle='--')\n",
        "                plt.title(f\"{coin.capitalize()} Price Over Time\")\n",
        "                plt.xlabel(\"Time\")\n",
        "                plt.ylabel(\"Price (€)\")\n",
        "                plt.xticks(rotation=45)\n",
        "                plt.grid(True)\n",
        "                plt.tight_layout()\n",
        "                plt.show()\n",
        "\n",
        "            else:\n",
        "                print(f\"❗ Price data for '{coin}' not found in API response:\", data)\n",
        "        except Exception as e:\n",
        "            print(\"❌ Error fetching price:\", e)\n",
        "\n",
        "# Connect button to function\n",
        "check_button.on_click(check_price)\n",
        "\n",
        "# Display everything\n",
        "display(coin_selector, threshold_slider, check_button, output)\n"
      ],
      "metadata": {
        "colab": {
          "base_uri": "https://localhost:8080/",
          "height": 442,
          "referenced_widgets": [
            "6c88cc5238484cfbab2374463ab1685a",
            "3b6b17fe0fea4721b22aae71b0c4febd",
            "8fa0c1fa3b484656bf0e1200e1e10b39",
            "16093f7239bf4062b31529fa4de3fa25",
            "87c163d31d3a4e139a02e6ee5d6c4b89",
            "176d5c072ea14417bc077d27e979fad4",
            "db9f3fd7ade0480cb9f0cc0c93e01fc2",
            "029d6d690f4e4351ade99e2d834c495e",
            "dbca4de7c9b14127b1ee0c8b21aebf7a",
            "2bdf54f7928e49ceb14ab3cff80ad980",
            "c6cd65d5c7704d009927d2bff4e2f0cd"
          ]
        },
        "id": "7eou7mjczSsI",
        "outputId": "df3e28d7-bb12-473f-d6b4-c4ed05be3081"
      },
      "execution_count": 55,
      "outputs": [
        {
          "output_type": "stream",
          "name": "stdout",
          "text": [
            "🪙 Current Ethereum Price: €2109.81\n",
            "✅ Price is BELOW your threshold.\n"
          ]
        },
        {
          "output_type": "display_data",
          "data": {
            "text/plain": [
              "<Figure size 800x400 with 1 Axes>"
            ],
            "image/png": "[encoded data removed]"
          },
          "metadata": {}
        }
      ]
    },
    {
      "cell_type": "code",
      "source": [],
      "metadata": {
        "id": "4Oj2GcuEz5JH"
      },
      "execution_count": null,
      "outputs": []
    }
  ]
}